{
  "nbformat": 4,
  "nbformat_minor": 0,
  "metadata": {
    "colab": {
      "provenance": [],
      "authorship_tag": "ABX9TyOrgh5i5Py5vzfXioFRf6br",
      "include_colab_link": true
    },
    "kernelspec": {
      "name": "python3",
      "display_name": "Python 3"
    },
    "language_info": {
      "name": "python"
    }
  },
  "cells": [
    {
      "cell_type": "markdown",
      "metadata": {
        "id": "view-in-github",
        "colab_type": "text"
      },
      "source": [
        "<a href=\"https://colab.research.google.com/github/Seanwu003/titanic-analysis/blob/main/Task_04_%E9%90%B5%E9%81%94%E5%B0%BC%E8%99%9F%E5%AD%98%E6%B4%BB%E9%A0%90%E6%B8%AC%E5%B0%88%E9%A1%8C%E5%AF%A6%E4%BD%9C.ipynb\" target=\"_parent\"><img src=\"https://colab.research.google.com/assets/colab-badge.svg\" alt=\"Open In Colab\"/></a>"
      ]
    },
    {
      "cell_type": "code",
      "execution_count": 3,
      "metadata": {
        "colab": {
          "base_uri": "https://localhost:8080/",
          "height": 300
        },
        "id": "KIPJvoy8QoPu",
        "outputId": "c1cbe3bf-f8d4-4b84-b366-b3ad0d9fc52f"
      },
      "outputs": [
        {
          "output_type": "execute_result",
          "data": {
            "text/plain": [
              "       PassengerId    Survived      Pclass         Age       SibSp  \\\n",
              "count   891.000000  891.000000  891.000000  714.000000  891.000000   \n",
              "mean    446.000000    0.383838    2.308642   29.699118    0.523008   \n",
              "std     257.353842    0.486592    0.836071   14.526497    1.102743   \n",
              "min       1.000000    0.000000    1.000000    0.420000    0.000000   \n",
              "25%     223.500000    0.000000    2.000000   20.125000    0.000000   \n",
              "50%     446.000000    0.000000    3.000000   28.000000    0.000000   \n",
              "75%     668.500000    1.000000    3.000000   38.000000    1.000000   \n",
              "max     891.000000    1.000000    3.000000   80.000000    8.000000   \n",
              "\n",
              "            Parch        Fare  \n",
              "count  891.000000  891.000000  \n",
              "mean     0.381594   32.204208  \n",
              "std      0.806057   49.693429  \n",
              "min      0.000000    0.000000  \n",
              "25%      0.000000    7.910400  \n",
              "50%      0.000000   14.454200  \n",
              "75%      0.000000   31.000000  \n",
              "max      6.000000  512.329200  "
            ],
            "text/html": [
              "\n",
              "  <div id=\"df-48facda1-6185-4d08-8f22-23020de1fbaf\" class=\"colab-df-container\">\n",
              "    <div>\n",
              "<style scoped>\n",
              "    .dataframe tbody tr th:only-of-type {\n",
              "        vertical-align: middle;\n",
              "    }\n",
              "\n",
              "    .dataframe tbody tr th {\n",
              "        vertical-align: top;\n",
              "    }\n",
              "\n",
              "    .dataframe thead th {\n",
              "        text-align: right;\n",
              "    }\n",
              "</style>\n",
              "<table border=\"1\" class=\"dataframe\">\n",
              "  <thead>\n",
              "    <tr style=\"text-align: right;\">\n",
              "      <th></th>\n",
              "      <th>PassengerId</th>\n",
              "      <th>Survived</th>\n",
              "      <th>Pclass</th>\n",
              "      <th>Age</th>\n",
              "      <th>SibSp</th>\n",
              "      <th>Parch</th>\n",
              "      <th>Fare</th>\n",
              "    </tr>\n",
              "  </thead>\n",
              "  <tbody>\n",
              "    <tr>\n",
              "      <th>count</th>\n",
              "      <td>891.000000</td>\n",
              "      <td>891.000000</td>\n",
              "      <td>891.000000</td>\n",
              "      <td>714.000000</td>\n",
              "      <td>891.000000</td>\n",
              "      <td>891.000000</td>\n",
              "      <td>891.000000</td>\n",
              "    </tr>\n",
              "    <tr>\n",
              "      <th>mean</th>\n",
              "      <td>446.000000</td>\n",
              "      <td>0.383838</td>\n",
              "      <td>2.308642</td>\n",
              "      <td>29.699118</td>\n",
              "      <td>0.523008</td>\n",
              "      <td>0.381594</td>\n",
              "      <td>32.204208</td>\n",
              "    </tr>\n",
              "    <tr>\n",
              "      <th>std</th>\n",
              "      <td>257.353842</td>\n",
              "      <td>0.486592</td>\n",
              "      <td>0.836071</td>\n",
              "      <td>14.526497</td>\n",
              "      <td>1.102743</td>\n",
              "      <td>0.806057</td>\n",
              "      <td>49.693429</td>\n",
              "    </tr>\n",
              "    <tr>\n",
              "      <th>min</th>\n",
              "      <td>1.000000</td>\n",
              "      <td>0.000000</td>\n",
              "      <td>1.000000</td>\n",
              "      <td>0.420000</td>\n",
              "      <td>0.000000</td>\n",
              "      <td>0.000000</td>\n",
              "      <td>0.000000</td>\n",
              "    </tr>\n",
              "    <tr>\n",
              "      <th>25%</th>\n",
              "      <td>223.500000</td>\n",
              "      <td>0.000000</td>\n",
              "      <td>2.000000</td>\n",
              "      <td>20.125000</td>\n",
              "      <td>0.000000</td>\n",
              "      <td>0.000000</td>\n",
              "      <td>7.910400</td>\n",
              "    </tr>\n",
              "    <tr>\n",
              "      <th>50%</th>\n",
              "      <td>446.000000</td>\n",
              "      <td>0.000000</td>\n",
              "      <td>3.000000</td>\n",
              "      <td>28.000000</td>\n",
              "      <td>0.000000</td>\n",
              "      <td>0.000000</td>\n",
              "      <td>14.454200</td>\n",
              "    </tr>\n",
              "    <tr>\n",
              "      <th>75%</th>\n",
              "      <td>668.500000</td>\n",
              "      <td>1.000000</td>\n",
              "      <td>3.000000</td>\n",
              "      <td>38.000000</td>\n",
              "      <td>1.000000</td>\n",
              "      <td>0.000000</td>\n",
              "      <td>31.000000</td>\n",
              "    </tr>\n",
              "    <tr>\n",
              "      <th>max</th>\n",
              "      <td>891.000000</td>\n",
              "      <td>1.000000</td>\n",
              "      <td>3.000000</td>\n",
              "      <td>80.000000</td>\n",
              "      <td>8.000000</td>\n",
              "      <td>6.000000</td>\n",
              "      <td>512.329200</td>\n",
              "    </tr>\n",
              "  </tbody>\n",
              "</table>\n",
              "</div>\n",
              "    <div class=\"colab-df-buttons\">\n",
              "\n",
              "  <div class=\"colab-df-container\">\n",
              "    <button class=\"colab-df-convert\" onclick=\"convertToInteractive('df-48facda1-6185-4d08-8f22-23020de1fbaf')\"\n",
              "            title=\"Convert this dataframe to an interactive table.\"\n",
              "            style=\"display:none;\">\n",
              "\n",
              "  <svg xmlns=\"http://www.w3.org/2000/svg\" height=\"24px\" viewBox=\"0 -960 960 960\">\n",
              "    <path d=\"M120-120v-720h720v720H120Zm60-500h600v-160H180v160Zm220 220h160v-160H400v160Zm0 220h160v-160H400v160ZM180-400h160v-160H180v160Zm440 0h160v-160H620v160ZM180-180h160v-160H180v160Zm440 0h160v-160H620v160Z\"/>\n",
              "  </svg>\n",
              "    </button>\n",
              "\n",
              "  <style>\n",
              "    .colab-df-container {\n",
              "      display:flex;\n",
              "      gap: 12px;\n",
              "    }\n",
              "\n",
              "    .colab-df-convert {\n",
              "      background-color: #E8F0FE;\n",
              "      border: none;\n",
              "      border-radius: 50%;\n",
              "      cursor: pointer;\n",
              "      display: none;\n",
              "      fill: #1967D2;\n",
              "      height: 32px;\n",
              "      padding: 0 0 0 0;\n",
              "      width: 32px;\n",
              "    }\n",
              "\n",
              "    .colab-df-convert:hover {\n",
              "      background-color: #E2EBFA;\n",
              "      box-shadow: 0px 1px 2px rgba(60, 64, 67, 0.3), 0px 1px 3px 1px rgba(60, 64, 67, 0.15);\n",
              "      fill: #174EA6;\n",
              "    }\n",
              "\n",
              "    .colab-df-buttons div {\n",
              "      margin-bottom: 4px;\n",
              "    }\n",
              "\n",
              "    [theme=dark] .colab-df-convert {\n",
              "      background-color: #3B4455;\n",
              "      fill: #D2E3FC;\n",
              "    }\n",
              "\n",
              "    [theme=dark] .colab-df-convert:hover {\n",
              "      background-color: #434B5C;\n",
              "      box-shadow: 0px 1px 3px 1px rgba(0, 0, 0, 0.15);\n",
              "      filter: drop-shadow(0px 1px 2px rgba(0, 0, 0, 0.3));\n",
              "      fill: #FFFFFF;\n",
              "    }\n",
              "  </style>\n",
              "\n",
              "    <script>\n",
              "      const buttonEl =\n",
              "        document.querySelector('#df-48facda1-6185-4d08-8f22-23020de1fbaf button.colab-df-convert');\n",
              "      buttonEl.style.display =\n",
              "        google.colab.kernel.accessAllowed ? 'block' : 'none';\n",
              "\n",
              "      async function convertToInteractive(key) {\n",
              "        const element = document.querySelector('#df-48facda1-6185-4d08-8f22-23020de1fbaf');\n",
              "        const dataTable =\n",
              "          await google.colab.kernel.invokeFunction('convertToInteractive',\n",
              "                                                    [key], {});\n",
              "        if (!dataTable) return;\n",
              "\n",
              "        const docLinkHtml = 'Like what you see? Visit the ' +\n",
              "          '<a target=\"_blank\" href=https://colab.research.google.com/notebooks/data_table.ipynb>data table notebook</a>'\n",
              "          + ' to learn more about interactive tables.';\n",
              "        element.innerHTML = '';\n",
              "        dataTable['output_type'] = 'display_data';\n",
              "        await google.colab.output.renderOutput(dataTable, element);\n",
              "        const docLink = document.createElement('div');\n",
              "        docLink.innerHTML = docLinkHtml;\n",
              "        element.appendChild(docLink);\n",
              "      }\n",
              "    </script>\n",
              "  </div>\n",
              "\n",
              "\n",
              "<div id=\"df-5ce70556-dcfa-4c2f-b80a-33b0bebb5fd6\">\n",
              "  <button class=\"colab-df-quickchart\" onclick=\"quickchart('df-5ce70556-dcfa-4c2f-b80a-33b0bebb5fd6')\"\n",
              "            title=\"Suggest charts\"\n",
              "            style=\"display:none;\">\n",
              "\n",
              "<svg xmlns=\"http://www.w3.org/2000/svg\" height=\"24px\"viewBox=\"0 0 24 24\"\n",
              "     width=\"24px\">\n",
              "    <g>\n",
              "        <path d=\"M19 3H5c-1.1 0-2 .9-2 2v14c0 1.1.9 2 2 2h14c1.1 0 2-.9 2-2V5c0-1.1-.9-2-2-2zM9 17H7v-7h2v7zm4 0h-2V7h2v10zm4 0h-2v-4h2v4z\"/>\n",
              "    </g>\n",
              "</svg>\n",
              "  </button>\n",
              "\n",
              "<style>\n",
              "  .colab-df-quickchart {\n",
              "      --bg-color: #E8F0FE;\n",
              "      --fill-color: #1967D2;\n",
              "      --hover-bg-color: #E2EBFA;\n",
              "      --hover-fill-color: #174EA6;\n",
              "      --disabled-fill-color: #AAA;\n",
              "      --disabled-bg-color: #DDD;\n",
              "  }\n",
              "\n",
              "  [theme=dark] .colab-df-quickchart {\n",
              "      --bg-color: #3B4455;\n",
              "      --fill-color: #D2E3FC;\n",
              "      --hover-bg-color: #434B5C;\n",
              "      --hover-fill-color: #FFFFFF;\n",
              "      --disabled-bg-color: #3B4455;\n",
              "      --disabled-fill-color: #666;\n",
              "  }\n",
              "\n",
              "  .colab-df-quickchart {\n",
              "    background-color: var(--bg-color);\n",
              "    border: none;\n",
              "    border-radius: 50%;\n",
              "    cursor: pointer;\n",
              "    display: none;\n",
              "    fill: var(--fill-color);\n",
              "    height: 32px;\n",
              "    padding: 0;\n",
              "    width: 32px;\n",
              "  }\n",
              "\n",
              "  .colab-df-quickchart:hover {\n",
              "    background-color: var(--hover-bg-color);\n",
              "    box-shadow: 0 1px 2px rgba(60, 64, 67, 0.3), 0 1px 3px 1px rgba(60, 64, 67, 0.15);\n",
              "    fill: var(--button-hover-fill-color);\n",
              "  }\n",
              "\n",
              "  .colab-df-quickchart-complete:disabled,\n",
              "  .colab-df-quickchart-complete:disabled:hover {\n",
              "    background-color: var(--disabled-bg-color);\n",
              "    fill: var(--disabled-fill-color);\n",
              "    box-shadow: none;\n",
              "  }\n",
              "\n",
              "  .colab-df-spinner {\n",
              "    border: 2px solid var(--fill-color);\n",
              "    border-color: transparent;\n",
              "    border-bottom-color: var(--fill-color);\n",
              "    animation:\n",
              "      spin 1s steps(1) infinite;\n",
              "  }\n",
              "\n",
              "  @keyframes spin {\n",
              "    0% {\n",
              "      border-color: transparent;\n",
              "      border-bottom-color: var(--fill-color);\n",
              "      border-left-color: var(--fill-color);\n",
              "    }\n",
              "    20% {\n",
              "      border-color: transparent;\n",
              "      border-left-color: var(--fill-color);\n",
              "      border-top-color: var(--fill-color);\n",
              "    }\n",
              "    30% {\n",
              "      border-color: transparent;\n",
              "      border-left-color: var(--fill-color);\n",
              "      border-top-color: var(--fill-color);\n",
              "      border-right-color: var(--fill-color);\n",
              "    }\n",
              "    40% {\n",
              "      border-color: transparent;\n",
              "      border-right-color: var(--fill-color);\n",
              "      border-top-color: var(--fill-color);\n",
              "    }\n",
              "    60% {\n",
              "      border-color: transparent;\n",
              "      border-right-color: var(--fill-color);\n",
              "    }\n",
              "    80% {\n",
              "      border-color: transparent;\n",
              "      border-right-color: var(--fill-color);\n",
              "      border-bottom-color: var(--fill-color);\n",
              "    }\n",
              "    90% {\n",
              "      border-color: transparent;\n",
              "      border-bottom-color: var(--fill-color);\n",
              "    }\n",
              "  }\n",
              "</style>\n",
              "\n",
              "  <script>\n",
              "    async function quickchart(key) {\n",
              "      const quickchartButtonEl =\n",
              "        document.querySelector('#' + key + ' button');\n",
              "      quickchartButtonEl.disabled = true;  // To prevent multiple clicks.\n",
              "      quickchartButtonEl.classList.add('colab-df-spinner');\n",
              "      try {\n",
              "        const charts = await google.colab.kernel.invokeFunction(\n",
              "            'suggestCharts', [key], {});\n",
              "      } catch (error) {\n",
              "        console.error('Error during call to suggestCharts:', error);\n",
              "      }\n",
              "      quickchartButtonEl.classList.remove('colab-df-spinner');\n",
              "      quickchartButtonEl.classList.add('colab-df-quickchart-complete');\n",
              "    }\n",
              "    (() => {\n",
              "      let quickchartButtonEl =\n",
              "        document.querySelector('#df-5ce70556-dcfa-4c2f-b80a-33b0bebb5fd6 button');\n",
              "      quickchartButtonEl.style.display =\n",
              "        google.colab.kernel.accessAllowed ? 'block' : 'none';\n",
              "    })();\n",
              "  </script>\n",
              "</div>\n",
              "\n",
              "    </div>\n",
              "  </div>\n"
            ],
            "application/vnd.google.colaboratory.intrinsic+json": {
              "type": "dataframe",
              "summary": "{\n  \"name\": \"df_train\",\n  \"rows\": 8,\n  \"fields\": [\n    {\n      \"column\": \"PassengerId\",\n      \"properties\": {\n        \"dtype\": \"number\",\n        \"std\": 320.8159711429856,\n        \"min\": 1.0,\n        \"max\": 891.0,\n        \"num_unique_values\": 6,\n        \"samples\": [\n          891.0,\n          446.0,\n          668.5\n        ],\n        \"semantic_type\": \"\",\n        \"description\": \"\"\n      }\n    },\n    {\n      \"column\": \"Survived\",\n      \"properties\": {\n        \"dtype\": \"number\",\n        \"std\": 314.8713661874558,\n        \"min\": 0.0,\n        \"max\": 891.0,\n        \"num_unique_values\": 5,\n        \"samples\": [\n          0.3838383838383838,\n          1.0,\n          0.4865924542648585\n        ],\n        \"semantic_type\": \"\",\n        \"description\": \"\"\n      }\n    },\n    {\n      \"column\": \"Pclass\",\n      \"properties\": {\n        \"dtype\": \"number\",\n        \"std\": 314.2523437079693,\n        \"min\": 0.8360712409770513,\n        \"max\": 891.0,\n        \"num_unique_values\": 6,\n        \"samples\": [\n          891.0,\n          2.308641975308642,\n          3.0\n        ],\n        \"semantic_type\": \"\",\n        \"description\": \"\"\n      }\n    },\n    {\n      \"column\": \"Age\",\n      \"properties\": {\n        \"dtype\": \"number\",\n        \"std\": 242.9056731818781,\n        \"min\": 0.42,\n        \"max\": 714.0,\n        \"num_unique_values\": 8,\n        \"samples\": [\n          29.69911764705882,\n          28.0,\n          714.0\n        ],\n        \"semantic_type\": \"\",\n        \"description\": \"\"\n      }\n    },\n    {\n      \"column\": \"SibSp\",\n      \"properties\": {\n        \"dtype\": \"number\",\n        \"std\": 314.4908277465442,\n        \"min\": 0.0,\n        \"max\": 891.0,\n        \"num_unique_values\": 6,\n        \"samples\": [\n          891.0,\n          0.5230078563411896,\n          8.0\n        ],\n        \"semantic_type\": \"\",\n        \"description\": \"\"\n      }\n    },\n    {\n      \"column\": \"Parch\",\n      \"properties\": {\n        \"dtype\": \"number\",\n        \"std\": 314.65971717879,\n        \"min\": 0.0,\n        \"max\": 891.0,\n        \"num_unique_values\": 5,\n        \"samples\": [\n          0.38159371492704824,\n          6.0,\n          0.8060572211299559\n        ],\n        \"semantic_type\": \"\",\n        \"description\": \"\"\n      }\n    },\n    {\n      \"column\": \"Fare\",\n      \"properties\": {\n        \"dtype\": \"number\",\n        \"std\": 330.6256632228577,\n        \"min\": 0.0,\n        \"max\": 891.0,\n        \"num_unique_values\": 8,\n        \"samples\": [\n          32.204207968574636,\n          14.4542,\n          891.0\n        ],\n        \"semantic_type\": \"\",\n        \"description\": \"\"\n      }\n    }\n  ]\n}"
            }
          },
          "metadata": {},
          "execution_count": 3
        }
      ],
      "source": [
        "# loading package\n",
        "import numpy as np\n",
        "import pandas as pd\n",
        "import matplotlib.pyplot as plt\n",
        "import seaborn as sns\n",
        "%matplotlib inline\n",
        "sns.set(font_scale=1.56)\n",
        "from sklearn.ensemble import RandomForestClassifier\n",
        "from sklearn.model_selection import cross_val_score, StratifiedKFold, learning_curve, train_test_split\n",
        "from sklearn.preprocessing import LabelEncoder\n",
        "from sklearn.feature_selection import RFECV\n",
        "df = pd.read_csv('https://raw.githubusercontent.com/dsindy/kaggle-titanic/master/data/train.csv')\n",
        "df_train = df.copy()\n",
        "#df_train.head()\n",
        "#df_train.info()\n",
        "df_train.describe()"
      ]
    },
    {
      "cell_type": "code",
      "source": [
        "#查看缺失值、填補 以及將要用欄位轉碼\n",
        "missing_values = df_train.isnull().sum()\n",
        "print(missing_values)"
      ],
      "metadata": {
        "colab": {
          "base_uri": "https://localhost:8080/"
        },
        "id": "-i42ZDBmry7j",
        "outputId": "1d617a02-759d-412e-8e11-fa1434b5ecf8"
      },
      "execution_count": null,
      "outputs": [
        {
          "output_type": "stream",
          "name": "stdout",
          "text": [
            "PassengerId      0\n",
            "Survived         0\n",
            "Pclass           0\n",
            "Name             0\n",
            "Sex              0\n",
            "Age            177\n",
            "SibSp            0\n",
            "Parch            0\n",
            "Ticket           0\n",
            "Fare             0\n",
            "Cabin          687\n",
            "Embarked         2\n",
            "dtype: int64\n"
          ]
        }
      ]
    },
    {
      "cell_type": "markdown",
      "source": [
        "1. 請問資料中有哪些「欄位」你覺得是多餘的，在分析過程中應該被排除的呢？為什麼？\n",
        "\n",
        "  **passengerId, Name, ticket。**\n",
        "\n",
        "  **因為沒有任何數值規則以及含義,所以不能拿來預測依變數Y。**\n"
      ],
      "metadata": {
        "id": "Xb8fGSn9Ti-f"
      }
    },
    {
      "cell_type": "markdown",
      "source": [],
      "metadata": {
        "id": "33fiDg9oTlY9"
      }
    },
    {
      "cell_type": "code",
      "source": [
        "#2. 針對「有缺失值」的欄位，嘗試不同的處理策略（例如：常數、中位數、平均數填補）比較結果。\n",
        "#有缺失值根據 Task_03 可以得知有age, cabin, embarked\tPort of Embarkation\n",
        "\n",
        "#針對cabin只能用填常數的方式補 先填入Unknown, 後續再編碼\n",
        "#df_train['Cabin'] = df_train['Cabin'].fillna('Unknown')\n",
        "#df_train['Cabin'] = df_train['Cabin'].map(lambda x: x[0])\n",
        "#cabin_mapping = {label: idx for idx, label in enumerate(df_train['Cabin'].unique())}       #還要細查#\n",
        "#df_train['Cabin'] = df_train['Cabin'].map(cabin_mapping)\n",
        "#針對embarked\tPort of Embarkation 先填入Unknown, 後續再編碼\n",
        "#df_train['Embarked'] = df_train['Embarked'].map({'C': 0, 'Q': 1, 'S': 2, 'Unknown': 3})\n",
        "#性別要轉碼   female: 0, male: 1\n",
        "#df_train['Sex'] = df_train['Sex'].map({'female': 0, 'male': 1})\n",
        "\n",
        "# 填補缺失值所需的欄位\n",
        "df_train['Embarked'] = df_train['Embarked'].fillna(df_train['Embarked'].mode()[0])  # 使用眾數填補 Embarked 欄位\n",
        "df_train['Sex'] = df_train['Sex'].map({'female': 0, 'male': 1})  # 性別轉碼\n",
        "df_train['Cabin'] = df_train['Cabin'].fillna('Unknown').map(lambda x: x[0])  # Cabin 欄位填補為 'Unknown'，並取首字母\n",
        "\n",
        "# 將 'Embarked' 和 'Cabin' 轉換為數值型資料\n",
        "df_train['Embarked'] = df_train['Embarked'].map({'C': 0, 'Q': 1, 'S': 2, 'Unknown': 3})  # 編碼 'Embarked'\n",
        "\n",
        "cabin_mapping = {label: idx for idx, label in enumerate(df_train['Cabin'].unique())}  # 編碼 'Cabin'\n",
        "df_train['Cabin'] = df_train['Cabin'].map(cabin_mapping)"
      ],
      "metadata": {
        "id": "REUnphHEQs5Z"
      },
      "execution_count": null,
      "outputs": []
    },
    {
      "cell_type": "code",
      "source": [
        "####由於age缺失的樣本較多我們只針對age測驗####\n",
        "\n",
        "# 目標變數和特徵變數\n",
        "X = df_train[['Pclass', 'Sex', 'Age', 'SibSp', 'Parch', 'Fare', 'Embarked', 'Cabin']]\n",
        "y = df_train['Survived']"
      ],
      "metadata": {
        "id": "Xr6JDr_vofiY"
      },
      "execution_count": null,
      "outputs": []
    },
    {
      "cell_type": "code",
      "source": [
        "# 定義函式來填補不同策略，並計算準確率\n",
        "def fill_and_train(strategy):\n",
        "    # 複製資料\n",
        "    df_temp = df_train.copy()\n",
        "\n",
        "    # 根據策略填補缺失值\n",
        "    if strategy == 'mean':\n",
        "        df_temp['Age'] = df_temp['Age'].fillna(df_temp['Age'].mean())\n",
        "    elif strategy == 'median':\n",
        "        df_temp['Age'] = df_temp['Age'].fillna(df_temp['Age'].median())\n",
        "    elif strategy == 'constant':\n",
        "        df_temp['Age'] = df_temp['Age'].fillna(-1)  # 填補為 -1 或任何常數\n",
        "\n",
        "    # 特徵欄位與目標變數\n",
        "    X_temp = df_temp[['Pclass', 'Sex', 'Age', 'SibSp', 'Parch', 'Fare', 'Embarked', 'Cabin']]\n",
        "\n",
        "    # 分割訓練與測試資料集\n",
        "    X_train, X_test, y_train, y_test = train_test_split(X_temp, y, test_size=0.2, random_state=42)\n",
        "\n",
        "    # 使用邏輯回歸模型進行訓練\n",
        "    model = LogisticRegression(max_iter=200)\n",
        "    model.fit(X_train, y_train)\n",
        "\n",
        "    # 預測並計算準確率\n",
        "    y_pred = model.predict(X_test)\n",
        "    accuracy = accuracy_score(y_test, y_pred)\n",
        "\n",
        "    return accuracy\n",
        "\n",
        "# 計算不同填補策略的準確率\n",
        "strategies = ['mean', 'median', 'constant']\n",
        "accuracies = {}\n",
        "\n",
        "for strategy in strategies:\n",
        "    accuracies[strategy] = fill_and_train(strategy)\n",
        "\n",
        "accuracies"
      ],
      "metadata": {
        "id": "bNPZ1l6SQvuK",
        "colab": {
          "base_uri": "https://localhost:8080/"
        },
        "outputId": "288f9e90-db87-487f-89c8-a132f57f6834"
      },
      "execution_count": null,
      "outputs": [
        {
          "output_type": "execute_result",
          "data": {
            "text/plain": [
              "{'mean': 0.8212290502793296,\n",
              " 'median': 0.8212290502793296,\n",
              " 'constant': 0.7821229050279329}"
            ]
          },
          "metadata": {},
          "execution_count": 82
        }
      ]
    },
    {
      "cell_type": "code",
      "source": [
        "\n",
        "print('得出填補平均值及中位數準確率最高')"
      ],
      "metadata": {
        "colab": {
          "base_uri": "https://localhost:8080/"
        },
        "id": "rUAhBrQzu2AV",
        "outputId": "91ed1198-c434-4eb0-f08a-39fedf0156c0"
      },
      "execution_count": null,
      "outputs": [
        {
          "output_type": "stream",
          "name": "stdout",
          "text": [
            "得出只要填補平均值準確率最高\n"
          ]
        }
      ]
    },
    {
      "cell_type": "markdown",
      "source": [
        " 3. 針對「非數值型」的欄位，嘗試不同的處理策略（例如：LabelEncoder 或 OneHotEncoder）比較結果。\n",
        "  ex a.將sex及embarked應用onehotencode\n",
        "     b.年紀為中位數\n",
        "\n",
        "\n",
        "\n"
      ],
      "metadata": {
        "id": "rq7xdLvDvHNy"
      }
    },
    {
      "cell_type": "code",
      "source": [
        "#將sex 與 Embarked  應用 OneHotEncode （因上述是用LabelEncoder）\n",
        "# 讀取資料\n",
        "df_train_onehot = df.copy()\n",
        "\n",
        "# 填補 Embarked 缺失值，並轉換性別\n",
        "df_train_onehot['Embarked'] = df_train_onehot['Embarked'].fillna(df_train_onehot['Embarked'].mode()[0])  # 填補 Embarked 的眾數\n",
        "df_train_onehot['Sex'] = df_train_onehot['Sex'].map({'female': 'Female', 'male': 'Male'})  # 性別轉換為標籤文字\n",
        "\n",
        "# 使用 OneHotEncoder 來編碼 Sex 和 Embarked 欄位\n",
        "df_train_onehot = pd.get_dummies(df_train, columns=['Sex', 'Embarked'], drop_first=True)\n",
        "# 顯示結果\n",
        "df_train_onehot.info()\n"
      ],
      "metadata": {
        "colab": {
          "base_uri": "https://localhost:8080/"
        },
        "id": "LNoyrMchX_FR",
        "outputId": "1acd4343-1af3-43ce-93ed-605059581c20"
      },
      "execution_count": 34,
      "outputs": [
        {
          "output_type": "stream",
          "name": "stdout",
          "text": [
            "<class 'pandas.core.frame.DataFrame'>\n",
            "RangeIndex: 891 entries, 0 to 890\n",
            "Data columns (total 19 columns):\n",
            " #   Column          Non-Null Count  Dtype   \n",
            "---  ------          --------------  -----   \n",
            " 0   PassengerId     891 non-null    int64   \n",
            " 1   Survived        891 non-null    int64   \n",
            " 2   Pclass          891 non-null    int64   \n",
            " 3   Name            891 non-null    object  \n",
            " 4   Age             714 non-null    float64 \n",
            " 5   SibSp           891 non-null    int64   \n",
            " 6   Parch           891 non-null    int64   \n",
            " 7   Ticket          891 non-null    object  \n",
            " 8   Fare            891 non-null    float64 \n",
            " 9   Cabin           204 non-null    object  \n",
            " 10  FareBin_4       891 non-null    category\n",
            " 11  FareBin_5       891 non-null    category\n",
            " 12  FareBin_6       891 non-null    category\n",
            " 13  FareBin_Code_4  891 non-null    int64   \n",
            " 14  FareBin_Code_5  891 non-null    int64   \n",
            " 15  FareBin_Code_6  891 non-null    int64   \n",
            " 16  Sex_male        891 non-null    bool    \n",
            " 17  Embarked_Q      891 non-null    bool    \n",
            " 18  Embarked_S      891 non-null    bool    \n",
            "dtypes: bool(3), category(3), float64(2), int64(8), object(3)\n",
            "memory usage: 96.6+ KB\n"
          ]
        }
      ]
    },
    {
      "cell_type": "code",
      "source": [
        "#查看缺失值、填補 以及將要用欄位轉碼\n",
        "missing_values_onehot = df_train_onehot.isnull().sum()\n",
        "print(missing_values_onehot)"
      ],
      "metadata": {
        "colab": {
          "base_uri": "https://localhost:8080/"
        },
        "id": "PrMNfrbibcfE",
        "outputId": "a60a6278-37df-4a66-ee83-03cb6c901ef3"
      },
      "execution_count": null,
      "outputs": [
        {
          "output_type": "stream",
          "name": "stdout",
          "text": [
            "PassengerId    0\n",
            "Survived       0\n",
            "Pclass         0\n",
            "Name           0\n",
            "Age            0\n",
            "SibSp          0\n",
            "Parch          0\n",
            "Ticket         0\n",
            "Fare           0\n",
            "Cabin          0\n",
            "Sex_male       0\n",
            "Embarked_Q     0\n",
            "Embarked_S     0\n",
            "dtype: int64\n"
          ]
        }
      ]
    },
    {
      "cell_type": "code",
      "source": [
        "df_train_onehot['Age'].fillna(df_train_onehot['Age'].median(), inplace=True)\n",
        "\n",
        "df_train_onehot['Cabin'] = df_train_onehot['Cabin'].fillna('Unknown').map(lambda x: x[0])  # Cabin 欄位填補為 'Unknown'，並取首字母\n",
        "cabin_mapping = {label: idx for idx, label in enumerate(df_train_onehot['Cabin'].unique())}  # 編碼 'Cabin'\n",
        "df_train_onehot['Cabin'] = df_train_onehot['Cabin'].map(cabin_mapping)"
      ],
      "metadata": {
        "colab": {
          "base_uri": "https://localhost:8080/"
        },
        "id": "hjWm378cbxHq",
        "outputId": "62161a2f-2917-4b8c-d4e9-39e8af80d996"
      },
      "execution_count": null,
      "outputs": [
        {
          "output_type": "stream",
          "name": "stderr",
          "text": [
            "<ipython-input-15-ee421104948f>:1: FutureWarning: A value is trying to be set on a copy of a DataFrame or Series through chained assignment using an inplace method.\n",
            "The behavior will change in pandas 3.0. This inplace method will never work because the intermediate object on which we are setting values always behaves as a copy.\n",
            "\n",
            "For example, when doing 'df[col].method(value, inplace=True)', try using 'df.method({col: value}, inplace=True)' or df[col] = df[col].method(value) instead, to perform the operation inplace on the original object.\n",
            "\n",
            "\n",
            "  df_train_onehot['Age'].fillna(df_train_onehot['Age'].median(), inplace=True)\n"
          ]
        }
      ]
    },
    {
      "cell_type": "code",
      "source": [
        "# 目標變數和特徵變數\n",
        "X = df_train_onehot[['Pclass', 'Age', 'SibSp', 'Parch', 'Fare',  'Cabin','Sex_male','Embarked_Q','Embarked_S']]\n",
        "y = df_train_onehot['Survived']"
      ],
      "metadata": {
        "id": "FD1TbAHUcya4"
      },
      "execution_count": null,
      "outputs": []
    },
    {
      "cell_type": "code",
      "source": [
        "    X_train_onehot, X_test_onehot, y_train_onthot, y_test_onehot = train_test_split(X, y, test_size=0.2, random_state=42)\n",
        "\n",
        "    # 使用邏輯回歸模型進行訓練\n",
        "    model = LogisticRegression(max_iter=200)\n",
        "    model.fit(X_train_onehot, y_train_onthot)\n",
        "\n",
        "    # 預測並計算準確率\n",
        "    y_pred_onthot = model.predict(X_test_onehot)\n",
        "    accuracy = accuracy_score(y_test_onehot, y_pred_onthot)\n",
        "\n",
        "    print('準確率:', accuracy)"
      ],
      "metadata": {
        "colab": {
          "base_uri": "https://localhost:8080/"
        },
        "id": "G93DB-JxdNxj",
        "outputId": "998ceb39-92d3-400c-c529-127da295b8d1"
      },
      "execution_count": null,
      "outputs": [
        {
          "output_type": "stream",
          "name": "stdout",
          "text": [
            "準確率: 0.8212290502793296\n"
          ]
        },
        {
          "output_type": "stream",
          "name": "stderr",
          "text": [
            "/usr/local/lib/python3.10/dist-packages/sklearn/linear_model/_logistic.py:469: ConvergenceWarning: lbfgs failed to converge (status=1):\n",
            "STOP: TOTAL NO. of ITERATIONS REACHED LIMIT.\n",
            "\n",
            "Increase the number of iterations (max_iter) or scale the data as shown in:\n",
            "    https://scikit-learn.org/stable/modules/preprocessing.html\n",
            "Please also refer to the documentation for alternative solver options:\n",
            "    https://scikit-learn.org/stable/modules/linear_model.html#logistic-regression\n",
            "  n_iter_i = _check_optimize_result(\n"
          ]
        }
      ]
    },
    {
      "cell_type": "markdown",
      "source": [
        "4.請你嘗試不同的特徵工程手法，產生可以幫助分析結果的新變數。（好難）"
      ],
      "metadata": {
        "id": "ipbAkT6SP1dT"
      }
    },
    {
      "cell_type": "code",
      "source": [
        "df_train_feature = df.copy()\n",
        "# 選Pclass艙等 是因為賶等越好表示存活率更高\n",
        "# 選fare票價同理，可以彰顯社會地位，越好的票安全更高表示存活率也更高\n",
        "missing_values_feature = df_train_feature.isnull().sum()\n",
        "print(missing_values_feature)"
      ],
      "metadata": {
        "colab": {
          "base_uri": "https://localhost:8080/"
        },
        "id": "uP851vu1gFCI",
        "outputId": "630592ad-9f8b-4bbf-ffb6-7a7c4c0eed05"
      },
      "execution_count": 26,
      "outputs": [
        {
          "output_type": "stream",
          "name": "stdout",
          "text": [
            "PassengerId      0\n",
            "Survived         0\n",
            "Pclass           0\n",
            "Name             0\n",
            "Sex              0\n",
            "Age            177\n",
            "SibSp            0\n",
            "Parch            0\n",
            "Ticket           0\n",
            "Fare             0\n",
            "Cabin          687\n",
            "Embarked         2\n",
            "dtype: int64\n"
          ]
        }
      ]
    },
    {
      "cell_type": "code",
      "source": [
        "# loading package\n",
        "import numpy as np\n",
        "import pandas as pd\n",
        "import matplotlib.pyplot as plt\n",
        "import seaborn as sns\n",
        "%matplotlib inline\n",
        "sns.set(font_scale=1.56)\n",
        "from sklearn.ensemble import RandomForestClassifier\n",
        "from sklearn.model_selection import cross_val_score, StratifiedKFold, learning_curve, train_test_split\n",
        "from sklearn.preprocessing import LabelEncoder\n",
        "from sklearn.feature_selection import RFECV\n",
        "# for display dataframe\n",
        "from IPython.display import display\n",
        "from IPython.display import display_html\n",
        "from sklearn.preprocessing import LabelEncoder\n",
        "def display_side_by_side(*args):\n",
        "    html_str=''\n",
        "    for df in args:\n",
        "        html_str+=df.to_html()\n",
        "    display_html(html_str.replace('table','table style=\"display:inline\"'),raw=True)\n",
        "# ignore warning\n",
        "import warnings\n",
        "warnings.filterwarnings(\"ignore\")\n",
        "\n",
        "# #裝箱法（離散化)Making Bins\n",
        "df_train_feature['FareBin_4'] = pd.qcut(df_train_feature['Fare'], 4)\n",
        "df_train_feature['FareBin_5'] = pd.qcut(df_train_feature['Fare'], 5)\n",
        "df_train_feature['FareBin_6'] = pd.qcut(df_train_feature['Fare'], 6)\n",
        "\n",
        "label = LabelEncoder()\n",
        "df_train_feature['FareBin_Code_4'] = label.fit_transform(df_train_feature['FareBin_4'])\n",
        "df_train_feature['FareBin_Code_5'] = label.fit_transform(df_train_feature['FareBin_5'])\n",
        "df_train_feature['FareBin_Code_6'] = label.fit_transform(df_train_feature['FareBin_6'])\n",
        "\n",
        "# cross tab\n",
        "df_4 = pd.crosstab(df_train_feature['FareBin_Code_4'],df_train_feature['Pclass'])\n",
        "df_5 = pd.crosstab(df_train_feature['FareBin_Code_5'],df_train_feature['Pclass'])\n",
        "df_6 = pd.crosstab(df_train_feature['FareBin_Code_6'],df_train_feature['Pclass'])\n",
        "\n",
        "display_side_by_side(df_4,df_5,df_6)\n",
        "\n",
        "# Updated plots\n",
        "fig, [ax1, ax2, ax3] = plt.subplots(1, 3, sharey=True)\n",
        "fig.set_figwidth(18)\n",
        "\n",
        "# Add horizontal line to each subplot for visual reference\n",
        "for axi in [ax1, ax2, ax3]:\n",
        "    axi.axhline(0.5, linestyle='dashed', color='black', alpha=0.3)\n",
        "\n",
        "# Create bar plots using sns.barplot\n",
        "sns.barplot(x='FareBin_Code_4', y='Survived', data=df_train_feature, ax=ax1)\n",
        "sns.barplot(x='FareBin_Code_5', y='Survived', data=df_train_feature, ax=ax2)\n",
        "sns.barplot(x='FareBin_Code_6', y='Survived', data=df_train_feature, ax=ax3)\n",
        "\n",
        "# Set titles for each subplot\n",
        "ax1.set_title('Survival Rate by FareBin_Code_4')\n",
        "ax2.set_title('Survival Rate by FareBin_Code_5')\n",
        "ax3.set_title('Survival Rate by FareBin_Code_6')\n",
        "\n",
        "# Adjust layout\n",
        "plt.tight_layout()\n",
        "plt.show()\n"
      ],
      "metadata": {
        "colab": {
          "base_uri": "https://localhost:8080/",
          "height": 577
        },
        "id": "O0wuJclXpZgC",
        "outputId": "12e012af-48a4-4ac6-999b-49651505b335"
      },
      "execution_count": 27,
      "outputs": [
        {
          "output_type": "display_data",
          "data": {
            "text/html": [
              "<table style=\"display:inline\" border=\"1\" class=\"dataframe\">\n",
              "  <thead>\n",
              "    <tr style=\"text-align: right;\">\n",
              "      <th>Pclass</th>\n",
              "      <th>1</th>\n",
              "      <th>2</th>\n",
              "      <th>3</th>\n",
              "    </tr>\n",
              "    <tr>\n",
              "      <th>FareBin_Code_4</th>\n",
              "      <th></th>\n",
              "      <th></th>\n",
              "      <th></th>\n",
              "    </tr>\n",
              "  </thead>\n",
              "  <tbody>\n",
              "    <tr>\n",
              "      <th>0</th>\n",
              "      <td>6</td>\n",
              "      <td>6</td>\n",
              "      <td>211</td>\n",
              "    </tr>\n",
              "    <tr>\n",
              "      <th>1</th>\n",
              "      <td>0</td>\n",
              "      <td>86</td>\n",
              "      <td>138</td>\n",
              "    </tr>\n",
              "    <tr>\n",
              "      <th>2</th>\n",
              "      <td>51</td>\n",
              "      <td>70</td>\n",
              "      <td>101</td>\n",
              "    </tr>\n",
              "    <tr>\n",
              "      <th>3</th>\n",
              "      <td>159</td>\n",
              "      <td>22</td>\n",
              "      <td>41</td>\n",
              "    </tr>\n",
              "  </tbody>\n",
              "</table style=\"display:inline\"><table style=\"display:inline\" border=\"1\" class=\"dataframe\">\n",
              "  <thead>\n",
              "    <tr style=\"text-align: right;\">\n",
              "      <th>Pclass</th>\n",
              "      <th>1</th>\n",
              "      <th>2</th>\n",
              "      <th>3</th>\n",
              "    </tr>\n",
              "    <tr>\n",
              "      <th>FareBin_Code_5</th>\n",
              "      <th></th>\n",
              "      <th></th>\n",
              "      <th></th>\n",
              "    </tr>\n",
              "  </thead>\n",
              "  <tbody>\n",
              "    <tr>\n",
              "      <th>0</th>\n",
              "      <td>6</td>\n",
              "      <td>6</td>\n",
              "      <td>167</td>\n",
              "    </tr>\n",
              "    <tr>\n",
              "      <th>1</th>\n",
              "      <td>0</td>\n",
              "      <td>24</td>\n",
              "      <td>160</td>\n",
              "    </tr>\n",
              "    <tr>\n",
              "      <th>2</th>\n",
              "      <td>0</td>\n",
              "      <td>80</td>\n",
              "      <td>92</td>\n",
              "    </tr>\n",
              "    <tr>\n",
              "      <th>3</th>\n",
              "      <td>64</td>\n",
              "      <td>64</td>\n",
              "      <td>52</td>\n",
              "    </tr>\n",
              "    <tr>\n",
              "      <th>4</th>\n",
              "      <td>146</td>\n",
              "      <td>10</td>\n",
              "      <td>20</td>\n",
              "    </tr>\n",
              "  </tbody>\n",
              "</table style=\"display:inline\"><table style=\"display:inline\" border=\"1\" class=\"dataframe\">\n",
              "  <thead>\n",
              "    <tr style=\"text-align: right;\">\n",
              "      <th>Pclass</th>\n",
              "      <th>1</th>\n",
              "      <th>2</th>\n",
              "      <th>3</th>\n",
              "    </tr>\n",
              "    <tr>\n",
              "      <th>FareBin_Code_6</th>\n",
              "      <th></th>\n",
              "      <th></th>\n",
              "      <th></th>\n",
              "    </tr>\n",
              "  </thead>\n",
              "  <tbody>\n",
              "    <tr>\n",
              "      <th>0</th>\n",
              "      <td>6</td>\n",
              "      <td>6</td>\n",
              "      <td>144</td>\n",
              "    </tr>\n",
              "    <tr>\n",
              "      <th>1</th>\n",
              "      <td>0</td>\n",
              "      <td>0</td>\n",
              "      <td>152</td>\n",
              "    </tr>\n",
              "    <tr>\n",
              "      <th>2</th>\n",
              "      <td>0</td>\n",
              "      <td>86</td>\n",
              "      <td>53</td>\n",
              "    </tr>\n",
              "    <tr>\n",
              "      <th>3</th>\n",
              "      <td>6</td>\n",
              "      <td>53</td>\n",
              "      <td>90</td>\n",
              "    </tr>\n",
              "    <tr>\n",
              "      <th>4</th>\n",
              "      <td>76</td>\n",
              "      <td>32</td>\n",
              "      <td>38</td>\n",
              "    </tr>\n",
              "    <tr>\n",
              "      <th>5</th>\n",
              "      <td>128</td>\n",
              "      <td>7</td>\n",
              "      <td>14</td>\n",
              "    </tr>\n",
              "  </tbody>\n",
              "</table style=\"display:inline\">"
            ]
          },
          "metadata": {}
        },
        {
          "output_type": "display_data",
          "data": {
            "text/plain": [
              "<Figure size 1800x480 with 3 Axes>"
            ],
            "image/png": "[encoded data removed]"
          },
          "metadata": {}
        }
      ]
    },
    {
      "cell_type": "code",
      "source": [
        "# splits again beacuse we just engineered new feature\n",
        "df_train = df_train_feature[:len(df_train)]\n",
        "df_test = df_train_feature[len(df_train):]\n",
        "# Training set and labels\n",
        "X = df_train.drop(labels=['Survived','PassengerId'],axis=1)\n",
        "Y = df_train['Survived']\n",
        "# show columns\n",
        "X.columns"
      ],
      "metadata": {
        "id": "IbYRT4M5up9x",
        "colab": {
          "base_uri": "https://localhost:8080/"
        },
        "outputId": "16ac4a44-6df2-40fe-a4b3-80df37a4162a"
      },
      "execution_count": 28,
      "outputs": [
        {
          "output_type": "execute_result",
          "data": {
            "text/plain": [
              "Index(['Pclass', 'Name', 'Sex', 'Age', 'SibSp', 'Parch', 'Ticket', 'Fare',\n",
              "       'Cabin', 'Embarked', 'FareBin_4', 'FareBin_5', 'FareBin_6',\n",
              "       'FareBin_Code_4', 'FareBin_Code_5', 'FareBin_Code_6'],\n",
              "      dtype='object')"
            ]
          },
          "metadata": {},
          "execution_count": 28
        }
      ]
    },
    {
      "cell_type": "code",
      "source": [
        "X['Sex'] = X['Sex'].map({'female': 0, 'male': 1})  # 性別轉碼\n",
        "print(df_train['Sex'])\n",
        "df_train['Sex'].describe()"
      ],
      "metadata": {
        "colab": {
          "base_uri": "https://localhost:8080/",
          "height": 424
        },
        "id": "4R7QYpTlIPtq",
        "outputId": "9ef7744d-eb82-4853-b355-abb030f712e4"
      },
      "execution_count": 29,
      "outputs": [
        {
          "output_type": "stream",
          "name": "stdout",
          "text": [
            "0        male\n",
            "1      female\n",
            "2      female\n",
            "3      female\n",
            "4        male\n",
            "        ...  \n",
            "886      male\n",
            "887    female\n",
            "888    female\n",
            "889      male\n",
            "890      male\n",
            "Name: Sex, Length: 891, dtype: object\n"
          ]
        },
        {
          "output_type": "execute_result",
          "data": {
            "text/plain": [
              "count      891\n",
              "unique       2\n",
              "top       male\n",
              "freq       577\n",
              "Name: Sex, dtype: object"
            ],
            "text/html": [
              "<div>\n",
              "<style scoped>\n",
              "    .dataframe tbody tr th:only-of-type {\n",
              "        vertical-align: middle;\n",
              "    }\n",
              "\n",
              "    .dataframe tbody tr th {\n",
              "        vertical-align: top;\n",
              "    }\n",
              "\n",
              "    .dataframe thead th {\n",
              "        text-align: right;\n",
              "    }\n",
              "</style>\n",
              "<table border=\"1\" class=\"dataframe\">\n",
              "  <thead>\n",
              "    <tr style=\"text-align: right;\">\n",
              "      <th></th>\n",
              "      <th>Sex</th>\n",
              "    </tr>\n",
              "  </thead>\n",
              "  <tbody>\n",
              "    <tr>\n",
              "      <th>count</th>\n",
              "      <td>891</td>\n",
              "    </tr>\n",
              "    <tr>\n",
              "      <th>unique</th>\n",
              "      <td>2</td>\n",
              "    </tr>\n",
              "    <tr>\n",
              "      <th>top</th>\n",
              "      <td>male</td>\n",
              "    </tr>\n",
              "    <tr>\n",
              "      <th>freq</th>\n",
              "      <td>577</td>\n",
              "    </tr>\n",
              "  </tbody>\n",
              "</table>\n",
              "</div><br><label><b>dtype:</b> object</label>"
            ]
          },
          "metadata": {},
          "execution_count": 29
        }
      ]
    },
    {
      "cell_type": "code",
      "source": [
        "compare = ['Sex','Pclass','FareBin_Code_4','FareBin_Code_5','FareBin_Code_6']\n",
        "selector = RFECV(RandomForestClassifier(n_estimators=250,min_samples_split=20),cv=10,n_jobs=-1)\n",
        "selector.fit(X[compare], Y)\n",
        "print(selector.support_)\n",
        "print(selector.ranking_)\n",
        "# 取得交叉驗證的平均分數\n",
        "mean_scores = selector.cv_results_['mean_test_score']\n",
        "print(mean_scores * 100)  # 轉換成百分比顯示\n",
        "\n",
        "#證明分六份的結果效果執行成果最好\n"
      ],
      "metadata": {
        "colab": {
          "base_uri": "https://localhost:8080/"
        },
        "id": "yXftpt_NEQ46",
        "outputId": "42e0e377-397d-4f36-b96d-450fadb26951"
      },
      "execution_count": 30,
      "outputs": [
        {
          "output_type": "stream",
          "name": "stdout",
          "text": [
            "[ True  True  True  True  True]\n",
            "[1 1 1 1 1]\n",
            "[78.67290886 77.44444444 79.01747815 79.35580524 80.3670412 ]\n"
          ]
        }
      ]
    },
    {
      "cell_type": "code",
      "source": [
        "score_b4, score_b5, score_b6 = [], [], []\n",
        "seeds = 10\n",
        "\n",
        "for i in range(seeds):\n",
        "    diff_cv = StratifiedKFold(n_splits=10, shuffle=True, random_state=i)\n",
        "    selector = RFECV(RandomForestClassifier(random_state=i, n_estimators=250, min_samples_split=20),\n",
        "                     cv=diff_cv, n_jobs=-1)\n",
        "    selector.fit(X[compare], Y)\n",
        "\n",
        "    # 改用 selector.cv_results_['mean_test_score']\n",
        "    mean_scores = selector.cv_results_['mean_test_score']\n",
        "\n",
        "    # 添加第 3, 4, 5 個特徵組合的平均分數\n",
        "    score_b4.append(mean_scores[2])\n",
        "    score_b5.append(mean_scores[3])\n",
        "    score_b6.append(mean_scores[4])"
      ],
      "metadata": {
        "id": "iD6TCmyhSJFy"
      },
      "execution_count": 31,
      "outputs": []
    },
    {
      "cell_type": "code",
      "source": [
        "# to np.array\n",
        "score_list = [score_b4, score_b5, score_b6]\n",
        "for item in score_list:\n",
        "    item = np.array(item*100)\n",
        "# plot\n",
        "fig = plt.figure(figsize= (18,8) )\n",
        "ax = plt.gca()\n",
        "ax.plot(range(seeds), score_b4,'-ok',label='bins = 4')\n",
        "ax.plot(range(seeds), score_b5,'-og',label='bins = 5')\n",
        "ax.plot(range(seeds), score_b6,'-ob',label='bins = 6')\n",
        "ax.set_xlabel(\"Seed #\", fontsize = '14')\n",
        "ax.set_ylim(0.783,0.815)\n",
        "ax.set_ylabel(\"Accuracy\", fontsize = '14')\n",
        "ax.set_title('bins = 4 vs bins = 5 vs bins = 6', fontsize='20')\n",
        "plt.legend(fontsize = 14,loc='upper right')"
      ],
      "metadata": {
        "colab": {
          "base_uri": "https://localhost:8080/",
          "height": 623
        },
        "id": "gdOKF4b6qFpa",
        "outputId": "7ed97700-cf38-4c94-d8df-b19d5644a738"
      },
      "execution_count": 32,
      "outputs": [
        {
          "output_type": "execute_result",
          "data": {
            "text/plain": [
              "<matplotlib.legend.Legend at 0x797bd8d36200>"
            ]
          },
          "metadata": {},
          "execution_count": 32
        },
        {
          "output_type": "display_data",
          "data": {
            "text/plain": [
              "<Figure size 1800x800 with 1 Axes>"
            ],
            "image/png": "[encoded data removed]"
          },
          "metadata": {}
        }
      ]
    },
    {
      "cell_type": "code",
      "source": [
        "b4, b5, b6 = ['Sex', 'Pclass','FareBin_Code_4'], ['Sex','Pclass','FareBin_Code_5'],\\\n",
        "['Sex','Pclass','FareBin_Code_6']\n",
        "b4_Model = RandomForestClassifier(random_state=2,n_estimators=250,min_samples_split=20,oob_score=True)\n",
        "b4_Model.fit(X[b4], Y)\n",
        "b5_Model = RandomForestClassifier(random_state=2,n_estimators=250,min_samples_split=20,oob_score=True)\n",
        "b5_Model.fit(X[b5], Y)\n",
        "b6_Model = RandomForestClassifier(random_state=2,n_estimators=250,min_samples_split=20,oob_score=True)\n",
        "b6_Model.fit(X[b6], Y)\n",
        "print('b4 oob score :%.5f' %(b4_Model.oob_score_),'   LB_Public : 0.7902')\n",
        "print('b5 oob score :%.5f '%(b5_Model.oob_score_),' LB_Public : 0.7936')\n",
        "print('b6 oob score : %.5f' %(b6_Model.oob_score_), '  LB_Public : 0.8037')\n",
        "\n",
        "#最後抓出較準確的結果為分五份的結果，並以此作為後續整體考量的feature"
      ],
      "metadata": {
        "colab": {
          "base_uri": "https://localhost:8080/"
        },
        "id": "sx4VdHbfwgvR",
        "outputId": "de638953-9ca7-4548-c4cf-408ddb7b7a34"
      },
      "execution_count": 35,
      "outputs": [
        {
          "output_type": "stream",
          "name": "stdout",
          "text": [
            "b4 oob score :0.79686    LB_Public : 0.7902\n",
            "b5 oob score :0.81033   LB_Public : 0.7936\n",
            "b6 oob score : 0.80135   LB_Public : 0.8037\n"
          ]
        }
      ]
    }
  ]
}